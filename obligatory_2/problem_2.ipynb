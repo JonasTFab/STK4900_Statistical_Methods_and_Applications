{
 "cells": [
  {
   "cell_type": "markdown",
   "id": "scheduled-cargo",
   "metadata": {},
   "source": [
    "# Problem 2\n",
    "\n",
    "Solving problem 2 using R in jupyter lab. Documentation is written in a separate pdf file.\n",
    "\n",
    "-------------------\n",
    "\n",
    "\n",
    "### a)\n",
    "\n",
    "Extract data from https://www.uio.no/studier/emner/matnat/math/STK4900/v21/obliger/olympic.txt"
   ]
  },
  {
   "cell_type": "code",
   "execution_count": 1,
   "id": "hairy-fetish",
   "metadata": {},
   "outputs": [],
   "source": [
    "data = read.table(\"olympic.txt\", header=T)"
   ]
  },
  {
   "cell_type": "markdown",
   "id": "facial-recall",
   "metadata": {},
   "source": [
    "-------------------\n",
    "\n",
    "\n",
    "### b)"
   ]
  },
  {
   "cell_type": "code",
   "execution_count": 11,
   "id": "dental-trustee",
   "metadata": {},
   "outputs": [
    {
     "data": {
      "text/plain": [
       "\n",
       "Call:\n",
       "glm(formula = Total2000 ~ Total1996 + Log.population + offset(Log.athletes) + \n",
       "    GDP.per.cap, family = poisson, data = data)\n",
       "\n",
       "Deviance Residuals: \n",
       "    Min       1Q   Median       3Q      Max  \n",
       "-3.4602  -1.0273   0.1670   0.9475   2.7748  \n",
       "\n",
       "Coefficients:\n",
       "                Estimate Std. Error z value Pr(>|z|)    \n",
       "(Intercept)    -2.862299   0.319076  -8.971  < 2e-16 ***\n",
       "Total1996       0.011832   0.001607   7.364 1.79e-13 ***\n",
       "Log.population  0.027510   0.031539   0.872    0.383    \n",
       "GDP.per.cap    -0.014924   0.003208  -4.652 3.29e-06 ***\n",
       "---\n",
       "Signif. codes:  0 ‘***’ 0.001 ‘**’ 0.01 ‘*’ 0.05 ‘.’ 0.1 ‘ ’ 1\n",
       "\n",
       "(Dispersion parameter for poisson family taken to be 1)\n",
       "\n",
       "    Null deviance: 254.11  on 65  degrees of freedom\n",
       "Residual deviance: 131.63  on 62  degrees of freedom\n",
       "AIC: 392.31\n",
       "\n",
       "Number of Fisher Scoring iterations: 4\n"
      ]
     },
     "metadata": {},
     "output_type": "display_data"
    }
   ],
   "source": [
    "fit.medals.all = glm(Total2000 ~ Total1996+Log.population+offset(Log.athletes)+GDP.per.cap, data=data, family=poisson)\n",
    "summary(fit.medals.all)"
   ]
  },
  {
   "cell_type": "code",
   "execution_count": 14,
   "id": "becoming-lingerie",
   "metadata": {},
   "outputs": [
    {
     "data": {
      "text/plain": [
       "\n",
       "Call:\n",
       "glm(formula = Total2000 ~ Total1996 + offset(Log.athletes) + \n",
       "    GDP.per.cap, family = poisson, data = data)\n",
       "\n",
       "Deviance Residuals: \n",
       "    Min       1Q   Median       3Q      Max  \n",
       "-3.3973  -1.0236   0.1788   0.9326   2.8277  \n",
       "\n",
       "Coefficients:\n",
       "             Estimate Std. Error z value Pr(>|z|)    \n",
       "(Intercept) -2.589318   0.057648 -44.916  < 2e-16 ***\n",
       "Total1996    0.012825   0.001140  11.248  < 2e-16 ***\n",
       "GDP.per.cap -0.015800   0.003059  -5.164 2.41e-07 ***\n",
       "---\n",
       "Signif. codes:  0 ‘***’ 0.001 ‘**’ 0.01 ‘*’ 0.05 ‘.’ 0.1 ‘ ’ 1\n",
       "\n",
       "(Dispersion parameter for poisson family taken to be 1)\n",
       "\n",
       "    Null deviance: 254.11  on 65  degrees of freedom\n",
       "Residual deviance: 132.39  on 63  degrees of freedom\n",
       "AIC: 391.07\n",
       "\n",
       "Number of Fisher Scoring iterations: 4\n"
      ]
     },
     "metadata": {},
     "output_type": "display_data"
    }
   ],
   "source": [
    "fit.medals.simple = glm(Total2000 ~ Total1996+offset(Log.athletes)+GDP.per.cap, data=data, family=poisson)\n",
    "summary(fit.medals.simple)"
   ]
  },
  {
   "cell_type": "code",
   "execution_count": null,
   "id": "front-romania",
   "metadata": {},
   "outputs": [],
   "source": []
  }
 ],
 "metadata": {
  "kernelspec": {
   "display_name": "R",
   "language": "R",
   "name": "ir"
  },
  "language_info": {
   "codemirror_mode": "r",
   "file_extension": ".r",
   "mimetype": "text/x-r-source",
   "name": "R",
   "pygments_lexer": "r",
   "version": "3.6.3"
  }
 },
 "nbformat": 4,
 "nbformat_minor": 5
}
