{
 "cells": [
  {
   "cell_type": "markdown",
   "id": "further-scout",
   "metadata": {},
   "source": [
    "# Problem 2\n",
    "\n",
    "Solving problem 2 using R in jupyter lab. Documentation is written in a separate pdf file.\n",
    "\n",
    "-------------------\n",
    "\n",
    "\n",
    "### a)\n",
    "\n",
    "Extract data from https://www.uio.no/studier/emner/matnat/math/STK4900/data/blood.txt "
   ]
  },
  {
   "cell_type": "code",
   "execution_count": 1,
   "id": "contained-subdivision",
   "metadata": {},
   "outputs": [],
   "source": [
    "data = read.table(\"https://www.uio.no/studier/emner/matnat/math/STK4900/data/blood.txt\", header=T)"
   ]
  },
  {
   "cell_type": "code",
   "execution_count": 2,
   "id": "acute-bibliography",
   "metadata": {},
   "outputs": [
    {
     "data": {
      "image/png": "[encoded data removed]",
      "text/plain": [
       "plot without title"
      ]
     },
     "metadata": {
      "image/png": {
       "height": 420,
       "width": 420
      }
     },
     "output_type": "display_data"
    }
   ],
   "source": [
    "#pdf(file=\"plot_2a.pdf\")\n",
    "boxplot(data$Bloodpr ~ data$age, pch=19,\n",
    "     xlab=\"Age group\", ylab=\"Blood pressure\",\n",
    "     cex.lab=1.5, cex.axis=0.01)\n",
    "axis(1, at=1:3, labels=c(\"30-45\", \"46-59\", \"60-75\"), cex.axis=1.5)\n",
    "axis(2, cex.axis=1.5)\n",
    "#dev.off()"
   ]
  },
  {
   "cell_type": "markdown",
   "id": "governing-forward",
   "metadata": {},
   "source": [
    "-------------------\n",
    "\n",
    "### b)"
   ]
  },
  {
   "cell_type": "code",
   "execution_count": 7,
   "id": "exclusive-pipeline",
   "metadata": {},
   "outputs": [
    {
     "data": {
      "text/plain": [
       "            Df Sum Sq Mean Sq F value  Pr(>F)   \n",
       "age          2   6535    3268   6.469 0.00426 **\n",
       "Residuals   33  16670     505                   \n",
       "---\n",
       "Signif. codes:  0 ‘***’ 0.001 ‘**’ 0.01 ‘*’ 0.05 ‘.’ 0.1 ‘ ’ 1"
      ]
     },
     "metadata": {},
     "output_type": "display_data"
    }
   ],
   "source": [
    "#data$age = factor(data$age)\n",
    "aov.data = aov(Bloodpr~age, data=data)\n",
    "summary(aov.data)"
   ]
  },
  {
   "cell_type": "markdown",
   "id": "valued-ottawa",
   "metadata": {},
   "source": [
    "-------------------\n",
    "\n",
    "### c)"
   ]
  },
  {
   "cell_type": "code",
   "execution_count": 8,
   "id": "occupied-steal",
   "metadata": {},
   "outputs": [
    {
     "data": {
      "text/plain": [
       "\n",
       "Call:\n",
       "lm(formula = Bloodpr ~ age, data = data)\n",
       "\n",
       "Residuals:\n",
       "    Min      1Q  Median      3Q     Max \n",
       "-45.167 -15.583  -5.167  14.104  58.833 \n",
       "\n",
       "Coefficients:\n",
       "            Estimate Std. Error t value Pr(>|t|)    \n",
       "(Intercept)  122.167      6.488  18.829  < 2e-16 ***\n",
       "age2          16.917      9.176   1.844  0.07423 .  \n",
       "age3          33.000      9.176   3.596  0.00104 ** \n",
       "---\n",
       "Signif. codes:  0 ‘***’ 0.001 ‘**’ 0.01 ‘*’ 0.05 ‘.’ 0.1 ‘ ’ 1\n",
       "\n",
       "Residual standard error: 22.48 on 33 degrees of freedom\n",
       "Multiple R-squared:  0.2816,\tAdjusted R-squared:  0.2381 \n",
       "F-statistic: 6.469 on 2 and 33 DF,  p-value: 0.004263\n"
      ]
     },
     "metadata": {},
     "output_type": "display_data"
    }
   ],
   "source": [
    "fit = lm(Bloodpr ~ age, data=data)\n",
    "summary(fit)"
   ]
  },
  {
   "cell_type": "code",
   "execution_count": null,
   "id": "proved-capture",
   "metadata": {},
   "outputs": [],
   "source": []
  }
 ],
 "metadata": {
  "kernelspec": {
   "display_name": "R",
   "language": "R",
   "name": "ir"
  },
  "language_info": {
   "codemirror_mode": "r",
   "file_extension": ".r",
   "mimetype": "text/x-r-source",
   "name": "R",
   "pygments_lexer": "r",
   "version": "3.6.3"
  }
 },
 "nbformat": 4,
 "nbformat_minor": 5
}
