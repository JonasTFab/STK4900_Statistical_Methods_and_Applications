{
 "cells": [
  {
   "cell_type": "markdown",
   "id": "champion-swaziland",
   "metadata": {},
   "source": [
    "Lecture slides at https://www.uio.no/studier/emner/matnat/math/STK4900/v21/lectures/lecture1.pdf\n",
    "\n",
    "---------------------------\n",
    "\n",
    "# Exercise 2:  two-sample t-test and confidence interval"
   ]
  },
  {
   "cell_type": "code",
   "execution_count": 1,
   "id": "willing-jonathan",
   "metadata": {},
   "outputs": [],
   "source": [
    "#At the lectures we looked an example on bone mineral density (cf. slide 25 from the lectures)\n",
    "\n",
    "#We will in this exercise see how the computations for this example may be done in R.\n",
    "\n",
    " \n",
    "\n",
    " \n",
    "\n",
    "#Start by reading the data into R. This may be done by the command:\n",
    "\n",
    "cont=c(0.228, 0.207, 0.234, 0.220, 0.217, 0.228, 0.209, 0.221, 0.204, 0.220, 0.203, 0.219, 0.218, 0.245, 0.210)\n",
    "\n",
    "treat=c(0.250, 0.237, 0.217, 0.206, 0.247, 0.228, 0.245, 0.232, 0.267, 0.261, 0.221, 0.219, 0.232, 0.209, 0.255)"
   ]
  },
  {
   "cell_type": "code",
   "execution_count": 23,
   "id": "intelligent-trash",
   "metadata": {},
   "outputs": [],
   "source": [
    "# Find the means and standard deviations, and check that you get the same results as in the lectures (slide 25)\n",
    "\n",
    "mean_c = mean(cont)\n",
    "#std_c = (sum((cont-mean_c)**2) / (length(cont)-1))**(1/2)      # true definition\n",
    "std_c = sd(cont)\n",
    "\n",
    "\n",
    "mean_t = mean(treat)\n",
    "std_t = sd(treat)\n"
   ]
  },
  {
   "cell_type": "code",
   "execution_count": 27,
   "id": "tight-ordinance",
   "metadata": {},
   "outputs": [
    {
     "data": {
      "text/html": [
       "0.2189"
      ],
      "text/latex": [
       "0.2189"
      ],
      "text/markdown": [
       "0.2189"
      ],
      "text/plain": [
       "[1] 0.2189"
      ]
     },
     "metadata": {},
     "output_type": "display_data"
    },
    {
     "data": {
      "text/html": [
       "0.0116"
      ],
      "text/latex": [
       "0.0116"
      ],
      "text/markdown": [
       "0.0116"
      ],
      "text/plain": [
       "[1] 0.0116"
      ]
     },
     "metadata": {},
     "output_type": "display_data"
    }
   ],
   "source": [
    "round(mean_c, 4)\n",
    "round(std_c, 4)"
   ]
  },
  {
   "cell_type": "code",
   "execution_count": 28,
   "id": "wicked-reach",
   "metadata": {},
   "outputs": [
    {
     "data": {
      "text/html": [
       "0.2351"
      ],
      "text/latex": [
       "0.2351"
      ],
      "text/markdown": [
       "0.2351"
      ],
      "text/plain": [
       "[1] 0.2351"
      ]
     },
     "metadata": {},
     "output_type": "display_data"
    },
    {
     "data": {
      "text/html": [
       "0.0188"
      ],
      "text/latex": [
       "0.0188"
      ],
      "text/markdown": [
       "0.0188"
      ],
      "text/plain": [
       "[1] 0.0188"
      ]
     },
     "metadata": {},
     "output_type": "display_data"
    }
   ],
   "source": [
    "round(mean_t, 4)\n",
    "round(std_t, 4)"
   ]
  },
  {
   "cell_type": "markdown",
   "id": "relative-savings",
   "metadata": {},
   "source": [
    "We see that the outputs coincide with the lecture notes."
   ]
  },
  {
   "cell_type": "code",
   "execution_count": 30,
   "id": "aware-sugar",
   "metadata": {},
   "outputs": [
    {
     "data": {
      "text/plain": [
       "\n",
       "\tTwo Sample t-test\n",
       "\n",
       "data:  treat and cont\n",
       "t = 2.8442, df = 28, p-value = 0.008227\n",
       "alternative hypothesis: true difference in means is not equal to 0\n",
       "95 percent confidence interval:\n",
       " 0.004532839 0.027867161\n",
       "sample estimates:\n",
       "mean of x mean of y \n",
       "0.2350667 0.2188667 \n"
      ]
     },
     "metadata": {},
     "output_type": "display_data"
    }
   ],
   "source": [
    "# Use the command \"t.test\" to compute the confidence interval, t-statistic and P-value:\n",
    "\n",
    "t.test(treat, cont, var.equal=T)"
   ]
  },
  {
   "cell_type": "markdown",
   "id": "frozen-queensland",
   "metadata": {},
   "source": [
    "Confidence interval: [0.0045, 0.0279] =  0.0162 $\\pm$ 0.0117\\\n",
    "t-statistic: 2.8442 \\\n",
    "p-value: 0.0082\n",
    "\n",
    "Make sure that you understand the output from the command and check that you get the same results as in the lectures (slides 27 and 28) \\\n",
    "We do get the same values as in the lecture notes."
   ]
  }
 ],
 "metadata": {
  "kernelspec": {
   "display_name": "R",
   "language": "R",
   "name": "ir"
  },
  "language_info": {
   "codemirror_mode": "r",
   "file_extension": ".r",
   "mimetype": "text/x-r-source",
   "name": "R",
   "pygments_lexer": "r",
   "version": "3.6.3"
  }
 },
 "nbformat": 4,
 "nbformat_minor": 5
}
