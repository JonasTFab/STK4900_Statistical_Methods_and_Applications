{
 "cells": [
  {
   "cell_type": "markdown",
   "id": "liquid-reproduction",
   "metadata": {},
   "source": [
    "# Exercise 17:  a first look at logistic regression\n",
    "\n",
    "In this exercise we will use data from the Western Collaborative Group Study (WCGS), a large epidemiological study designed to study risk factors for coronary heart disease (CHD). More than 3000 men were recruited to the study, and a number of (potential) risk factors were recorded at entry. The men were then followed for about ten years and it was recorded if they developed CHD or not. The WCGS data are used in many of the examples in Section 3.4 and Chapter 6 of the course text book byVittinghoff et al.\n",
    "\n",
    "You may read the WCGS data into R by the command:\n",
    "\n",
    "- wcgs=read.table(\"http://www.uio.no/studier/emner/matnat/math/STK4900/data/wcgs.txt\", sep=\"\\t\",header=T,na.strings=\".\")\n",
    "\n",
    "In this exercise we study the effect of smoking and age on the risk for CHD. We will only look at the estimates (standard errors, confidence intervals, tests etc will be considered in Exercise 18).\n",
    "\n",
    "### Question a)\n",
    "\n",
    "We first look at the effect of smoking (which is a binary covariate: 0=non-smoker, 1=smoker). We start out by making a 2x2 table for the development of CHD or not for smokers and nonsmokers:\n",
    "\n",
    "- table(wcgs$smoke,wcgs$chd69)\n",
    "\n",
    "From the table you will see that there were 1502 smokers and that 159 of these developed CHD. Of the 1652 non-smokers, 98 developed CHD. We then estimate the proportion who developed CHD among smokers and non-smokers. We also estimate the relative risk and the odds ratio (cf. slides 17 and 19):\n",
    "\n",
    "- p1=159/1502\n",
    "- p0=98/1652\n",
    "- RR=p1/p0\n",
    "- OR=(p1/(1-p1))/(p0/(1-p0))\n",
    "- bind(p1,p0,RR,OR)\n",
    "\n",
    "Perform the commands and discuss what the results tell you."
   ]
  },
  {
   "cell_type": "code",
   "execution_count": null,
   "id": "cardiovascular-marijuana",
   "metadata": {},
   "outputs": [],
   "source": []
  },
  {
   "cell_type": "markdown",
   "id": "economic-fitting",
   "metadata": {},
   "source": [
    "\n",
    "---------------------------------------\n",
    "\n",
    "### Question b)\n",
    " \n",
    "We then use a logistic regression model with smoke as covariate:\n",
    "\n",
    "- fit.smoke=glm(chd69~smoke,data=wcgs,family=binomial)\n",
    "- print(fit.smoke)\n",
    "\n",
    "From a fitted logistic model we may estimate the odds ratio corresponding to a one unit's increase in a covariate (cf. slide 25). Use this result to compute the odds ratio for CHD for a smoker compared to a non-smoker. Compare with the result from question a."
   ]
  },
  {
   "cell_type": "code",
   "execution_count": null,
   "id": "marked-booking",
   "metadata": {},
   "outputs": [],
   "source": []
  },
  {
   "cell_type": "markdown",
   "id": "grave-finance",
   "metadata": {},
   "source": [
    "\n",
    "---------------------------------------\n",
    "# Question c)\n",
    "\n",
    "We then use logistic regression to study the effect of age (at entry to the study) for the risk of developing CHD:\n",
    "\n",
    "- fit.age=glm(chd69~age,data=wcgs,family=binomial)\n",
    "- print(fit.age)\n",
    "\n",
    "From a fitted logistic model we may estimate the odds ratio corresponding to a given increase in a covariate (cf. slide 25). Compute the odds ratio for CHD for a one-year and a ten-year increase in age. Check that you get the same results as on pages 162-163 in the text book byVittinghoff et al."
   ]
  },
  {
   "cell_type": "code",
   "execution_count": null,
   "id": "sunrise-grace",
   "metadata": {},
   "outputs": [],
   "source": []
  }
 ],
 "metadata": {
  "kernelspec": {
   "display_name": "R",
   "language": "R",
   "name": "ir"
  },
  "language_info": {
   "codemirror_mode": "r",
   "file_extension": ".r",
   "mimetype": "text/x-r-source",
   "name": "R",
   "pygments_lexer": "r",
   "version": "3.6.3"
  }
 },
 "nbformat": 4,
 "nbformat_minor": 5
}
