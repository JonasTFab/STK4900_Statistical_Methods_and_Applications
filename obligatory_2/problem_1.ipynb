{
 "cells": [
  {
   "cell_type": "markdown",
   "id": "plastic-bhutan",
   "metadata": {},
   "source": [
    "# Problem 1\n",
    "\n",
    "Solving problem 1 using R in jupyter lab. Documentation is written in a separate pdf file.\n",
    "\n",
    "-------------------\n",
    "\n",
    "\n",
    "### a)\n",
    "\n",
    "Extract data from https://www.uio.no/studier/emner/matnat/math/STK4900/v21/obliger/crabs.txt"
   ]
  },
  {
   "cell_type": "code",
   "execution_count": 31,
   "id": "interested-moscow",
   "metadata": {},
   "outputs": [],
   "source": [
    "data = read.table(\"https://www.uio.no/studier/emner/matnat/math/STK4900/v21/obliger/crabs.txt\", header=T)"
   ]
  },
  {
   "cell_type": "markdown",
   "id": "forward-honor",
   "metadata": {},
   "source": [
    "-------------------\n",
    "\n",
    "### b)"
   ]
  },
  {
   "cell_type": "code",
   "execution_count": 32,
   "id": "alpine-method",
   "metadata": {},
   "outputs": [
    {
     "data": {
      "text/plain": [
       "\n",
       "Call:\n",
       "glm(formula = y ~ width, family = binomial, data = data)\n",
       "\n",
       "Deviance Residuals: \n",
       "    Min       1Q   Median       3Q      Max  \n",
       "-2.0281  -1.0458   0.5480   0.9066   1.6942  \n",
       "\n",
       "Coefficients:\n",
       "            Estimate Std. Error z value Pr(>|z|)    \n",
       "(Intercept) -12.3508     2.6287  -4.698 2.62e-06 ***\n",
       "width         0.4972     0.1017   4.887 1.02e-06 ***\n",
       "---\n",
       "Signif. codes:  0 ‘***’ 0.001 ‘**’ 0.01 ‘*’ 0.05 ‘.’ 0.1 ‘ ’ 1\n",
       "\n",
       "(Dispersion parameter for binomial family taken to be 1)\n",
       "\n",
       "    Null deviance: 225.76  on 172  degrees of freedom\n",
       "Residual deviance: 194.45  on 171  degrees of freedom\n",
       "AIC: 198.45\n",
       "\n",
       "Number of Fisher Scoring iterations: 4\n"
      ]
     },
     "metadata": {},
     "output_type": "display_data"
    }
   ],
   "source": [
    "fit.binary.width = glm(y~width, data=data, family=binomial)\n",
    "summary(fit.binary.width)"
   ]
  },
  {
   "cell_type": "code",
   "execution_count": 28,
   "id": "royal-title",
   "metadata": {},
   "outputs": [],
   "source": [
    "beta.1.width = 0.4972               # coefficient from fitted model\n",
    "se.width = 0.1017                   # standard error from fitted model\n",
    "upper.width = beta.1.width + 1.96*se.width\n",
    "lower.width = beta.1.width - 1.96*se.width\n",
    "\n",
    "OR.width = exp(beta.1.width)        # Odds ratio\n",
    "upper.OR.width = exp(upper.width)   # upper CI\n",
    "lower.OR.width = exp(lower.width)   # lower CI"
   ]
  },
  {
   "cell_type": "code",
   "execution_count": 30,
   "id": "reduced-medicaid",
   "metadata": {},
   "outputs": [
    {
     "name": "stdout",
     "output_type": "stream",
     "text": [
      "[1] 1.644111\n",
      "[1] 1.346984\n",
      "[1] 2.006781\n"
     ]
    }
   ],
   "source": [
    "print(OR.width)\n",
    "print(lower.OR.width)\n",
    "print(upper.OR.width)"
   ]
  },
  {
   "cell_type": "markdown",
   "id": "daily-particular",
   "metadata": {},
   "source": [
    "-------------------\n",
    "\n",
    "### c)\n",
    "\n",
    "### Logistic regression on weight as a numerical covariate."
   ]
  },
  {
   "cell_type": "code",
   "execution_count": 5,
   "id": "treated-swaziland",
   "metadata": {},
   "outputs": [
    {
     "data": {
      "text/plain": [
       "\n",
       "Call:\n",
       "glm(formula = y ~ weight, family = binomial, data = data)\n",
       "\n",
       "Deviance Residuals: \n",
       "    Min       1Q   Median       3Q      Max  \n",
       "-2.1108  -1.0749   0.5426   0.9122   1.6285  \n",
       "\n",
       "Coefficients:\n",
       "            Estimate Std. Error z value Pr(>|z|)    \n",
       "(Intercept)  -3.6947     0.8802  -4.198 2.70e-05 ***\n",
       "weight        1.8151     0.3767   4.819 1.45e-06 ***\n",
       "---\n",
       "Signif. codes:  0 ‘***’ 0.001 ‘**’ 0.01 ‘*’ 0.05 ‘.’ 0.1 ‘ ’ 1\n",
       "\n",
       "(Dispersion parameter for binomial family taken to be 1)\n",
       "\n",
       "    Null deviance: 225.76  on 172  degrees of freedom\n",
       "Residual deviance: 195.74  on 171  degrees of freedom\n",
       "AIC: 199.74\n",
       "\n",
       "Number of Fisher Scoring iterations: 4\n"
      ]
     },
     "metadata": {},
     "output_type": "display_data"
    }
   ],
   "source": [
    "fit.binary.weight = glm(y~weight, data=data, family=binomial)\n",
    "summary(fit.binary.weight)"
   ]
  },
  {
   "cell_type": "markdown",
   "id": "innovative-stage",
   "metadata": {},
   "source": [
    "### Logistic regression on color as a categorical covariate. First we need to categorise the data."
   ]
  },
  {
   "cell_type": "code",
   "execution_count": 6,
   "id": "perfect-jungle",
   "metadata": {},
   "outputs": [
    {
     "data": {
      "text/plain": [
       "\n",
       "Call:\n",
       "glm(formula = y ~ factor(color), family = binomial, data = data)\n",
       "\n",
       "Deviance Residuals: \n",
       "    Min       1Q   Median       3Q      Max  \n",
       "-1.6651  -1.3370   0.7997   0.7997   1.5134  \n",
       "\n",
       "Coefficients:\n",
       "               Estimate Std. Error z value Pr(>|z|)  \n",
       "(Intercept)      1.0986     0.6667   1.648   0.0994 .\n",
       "factor(color)2  -0.1226     0.7053  -0.174   0.8620  \n",
       "factor(color)3  -0.7309     0.7338  -0.996   0.3192  \n",
       "factor(color)4  -1.8608     0.8087  -2.301   0.0214 *\n",
       "---\n",
       "Signif. codes:  0 ‘***’ 0.001 ‘**’ 0.01 ‘*’ 0.05 ‘.’ 0.1 ‘ ’ 1\n",
       "\n",
       "(Dispersion parameter for binomial family taken to be 1)\n",
       "\n",
       "    Null deviance: 225.76  on 172  degrees of freedom\n",
       "Residual deviance: 212.06  on 169  degrees of freedom\n",
       "AIC: 220.06\n",
       "\n",
       "Number of Fisher Scoring iterations: 4\n"
      ]
     },
     "metadata": {},
     "output_type": "display_data"
    }
   ],
   "source": [
    "fit.binary.color = glm(y~factor(color), data=data, family=binomial)\n",
    "summary(fit.binary.color)"
   ]
  },
  {
   "cell_type": "markdown",
   "id": "norwegian-index",
   "metadata": {},
   "source": [
    "### Logistic regression on spine as a categorical covariate.First we need to categorise the data."
   ]
  },
  {
   "cell_type": "code",
   "execution_count": 7,
   "id": "portable-collective",
   "metadata": {},
   "outputs": [
    {
     "data": {
      "text/plain": [
       "\n",
       "Call:\n",
       "glm(formula = y ~ factor(spine), family = binomial, data = data)\n",
       "\n",
       "Deviance Residuals: \n",
       "    Min       1Q   Median       3Q      Max  \n",
       "-1.5576  -1.4385   0.8400   0.9371   1.2346  \n",
       "\n",
       "Coefficients:\n",
       "               Estimate Std. Error z value Pr(>|z|)  \n",
       "(Intercept)      0.8602     0.3597   2.392   0.0168 *\n",
       "factor(spine)2  -0.9937     0.6303  -1.577   0.1149  \n",
       "factor(spine)3  -0.2647     0.4068  -0.651   0.5152  \n",
       "---\n",
       "Signif. codes:  0 ‘***’ 0.001 ‘**’ 0.01 ‘*’ 0.05 ‘.’ 0.1 ‘ ’ 1\n",
       "\n",
       "(Dispersion parameter for binomial family taken to be 1)\n",
       "\n",
       "    Null deviance: 225.76  on 172  degrees of freedom\n",
       "Residual deviance: 223.23  on 170  degrees of freedom\n",
       "AIC: 229.23\n",
       "\n",
       "Number of Fisher Scoring iterations: 4\n"
      ]
     },
     "metadata": {},
     "output_type": "display_data"
    }
   ],
   "source": [
    "fit.binary.spine = glm(y~factor(spine), data=data, family=binomial)\n",
    "summary(fit.binary.spine)"
   ]
  },
  {
   "cell_type": "markdown",
   "id": "proprietary-showcase",
   "metadata": {},
   "source": [
    "-------------------\n",
    "\n",
    "### d)"
   ]
  },
  {
   "cell_type": "code",
   "execution_count": 12,
   "id": "empirical-papua",
   "metadata": {},
   "outputs": [
    {
     "data": {
      "text/plain": [
       "\n",
       "Call:\n",
       "glm(formula = y ~ width + weight + factor(color) + factor(spine), \n",
       "    family = binomial, data = data)\n",
       "\n",
       "Deviance Residuals: \n",
       "    Min       1Q   Median       3Q      Max  \n",
       "-2.1977  -0.9424   0.4849   0.8491   2.1198  \n",
       "\n",
       "Coefficients:\n",
       "               Estimate Std. Error z value Pr(>|z|)  \n",
       "(Intercept)    -8.06501    3.92855  -2.053   0.0401 *\n",
       "width           0.26313    0.19530   1.347   0.1779  \n",
       "weight          0.82578    0.70383   1.173   0.2407  \n",
       "factor(color)2 -0.10290    0.78259  -0.131   0.8954  \n",
       "factor(color)3 -0.48886    0.85312  -0.573   0.5666  \n",
       "factor(color)4 -1.60867    0.93553  -1.720   0.0855 .\n",
       "factor(spine)2 -0.09598    0.70337  -0.136   0.8915  \n",
       "factor(spine)3  0.40029    0.50270   0.796   0.4259  \n",
       "---\n",
       "Signif. codes:  0 ‘***’ 0.001 ‘**’ 0.01 ‘*’ 0.05 ‘.’ 0.1 ‘ ’ 1\n",
       "\n",
       "(Dispersion parameter for binomial family taken to be 1)\n",
       "\n",
       "    Null deviance: 225.76  on 172  degrees of freedom\n",
       "Residual deviance: 185.20  on 165  degrees of freedom\n",
       "AIC: 201.2\n",
       "\n",
       "Number of Fisher Scoring iterations: 4\n"
      ]
     },
     "metadata": {},
     "output_type": "display_data"
    }
   ],
   "source": [
    "fit.binary.all = glm(y~width+weight+factor(color)+factor(spine), data=data, family=binomial)\n",
    "summary(fit.binary.all)"
   ]
  },
  {
   "cell_type": "code",
   "execution_count": 33,
   "id": "touched-credit",
   "metadata": {},
   "outputs": [
    {
     "data": {
      "text/plain": [
       "\n",
       "Call:\n",
       "glm(formula = y ~ width + weight, family = binomial, data = data)\n",
       "\n",
       "Deviance Residuals: \n",
       "    Min       1Q   Median       3Q      Max  \n",
       "-2.1127  -1.0344   0.5304   0.9006   1.7207  \n",
       "\n",
       "Coefficients:\n",
       "            Estimate Std. Error z value Pr(>|z|)   \n",
       "(Intercept)  -9.3547     3.5280  -2.652  0.00801 **\n",
       "width         0.3068     0.1819   1.686  0.09177 . \n",
       "weight        0.8338     0.6716   1.241  0.21445   \n",
       "---\n",
       "Signif. codes:  0 ‘***’ 0.001 ‘**’ 0.01 ‘*’ 0.05 ‘.’ 0.1 ‘ ’ 1\n",
       "\n",
       "(Dispersion parameter for binomial family taken to be 1)\n",
       "\n",
       "    Null deviance: 225.76  on 172  degrees of freedom\n",
       "Residual deviance: 192.89  on 170  degrees of freedom\n",
       "AIC: 198.89\n",
       "\n",
       "Number of Fisher Scoring iterations: 4\n"
      ]
     },
     "metadata": {},
     "output_type": "display_data"
    }
   ],
   "source": [
    "fit.binary.ww = glm(y~width + weight, data=data, family=binomial)    # ww = width/weight\n",
    "summary(fit.binary.simplified)"
   ]
  },
  {
   "cell_type": "code",
   "execution_count": 43,
   "id": "assigned-bibliography",
   "metadata": {},
   "outputs": [
    {
     "data": {
      "text/html": [
       "<table>\n",
       "<caption>A matrix: 4 × 4 of type dbl</caption>\n",
       "<thead>\n",
       "\t<tr><th></th><th scope=col>width</th><th scope=col>weight</th><th scope=col>color</th><th scope=col>spine</th></tr>\n",
       "</thead>\n",
       "<tbody>\n",
       "\t<tr><th scope=row>width</th><td> 1.0000000</td><td> 0.8868715</td><td>-0.2643863</td><td>-0.1218946</td></tr>\n",
       "\t<tr><th scope=row>weight</th><td> 0.8868715</td><td> 1.0000000</td><td>-0.2507772</td><td>-0.1664817</td></tr>\n",
       "\t<tr><th scope=row>color</th><td>-0.2643863</td><td>-0.2507772</td><td> 1.0000000</td><td> 0.3785016</td></tr>\n",
       "\t<tr><th scope=row>spine</th><td>-0.1218946</td><td>-0.1664817</td><td> 0.3785016</td><td> 1.0000000</td></tr>\n",
       "</tbody>\n",
       "</table>\n"
      ],
      "text/latex": [
       "A matrix: 4 × 4 of type dbl\n",
       "\\begin{tabular}{r|llll}\n",
       "  & width & weight & color & spine\\\\\n",
       "\\hline\n",
       "\twidth &  1.0000000 &  0.8868715 & -0.2643863 & -0.1218946\\\\\n",
       "\tweight &  0.8868715 &  1.0000000 & -0.2507772 & -0.1664817\\\\\n",
       "\tcolor & -0.2643863 & -0.2507772 &  1.0000000 &  0.3785016\\\\\n",
       "\tspine & -0.1218946 & -0.1664817 &  0.3785016 &  1.0000000\\\\\n",
       "\\end{tabular}\n"
      ],
      "text/markdown": [
       "\n",
       "A matrix: 4 × 4 of type dbl\n",
       "\n",
       "| <!--/--> | width | weight | color | spine |\n",
       "|---|---|---|---|---|\n",
       "| width |  1.0000000 |  0.8868715 | -0.2643863 | -0.1218946 |\n",
       "| weight |  0.8868715 |  1.0000000 | -0.2507772 | -0.1664817 |\n",
       "| color | -0.2643863 | -0.2507772 |  1.0000000 |  0.3785016 |\n",
       "| spine | -0.1218946 | -0.1664817 |  0.3785016 |  1.0000000 |\n",
       "\n"
      ],
      "text/plain": [
       "       width      weight     color      spine     \n",
       "width   1.0000000  0.8868715 -0.2643863 -0.1218946\n",
       "weight  0.8868715  1.0000000 -0.2507772 -0.1664817\n",
       "color  -0.2643863 -0.2507772  1.0000000  0.3785016\n",
       "spine  -0.1218946 -0.1664817  0.3785016  1.0000000"
      ]
     },
     "metadata": {},
     "output_type": "display_data"
    }
   ],
   "source": [
    "data.predictors = data.frame(width=data$width, weight=data$weight, color=data$color, spine=data$spine)\n",
    "cor(data.predictors)"
   ]
  },
  {
   "cell_type": "markdown",
   "id": "labeled-postcard",
   "metadata": {},
   "source": [
    "-------------------\n",
    "\n",
    "### e)"
   ]
  },
  {
   "cell_type": "code",
   "execution_count": 78,
   "id": "mexican-ordering",
   "metadata": {},
   "outputs": [
    {
     "data": {
      "text/plain": [
       "\n",
       "Call:\n",
       "glm(formula = y ~ width + spine + width * spine, family = binomial, \n",
       "    data = data)\n",
       "\n",
       "Deviance Residuals: \n",
       "    Min       1Q   Median       3Q      Max  \n",
       "-2.0289  -1.0286   0.5484   0.8976   1.7389  \n",
       "\n",
       "Coefficients:\n",
       "            Estimate Std. Error z value Pr(>|z|)\n",
       "(Intercept) -9.06912    7.67811  -1.181    0.238\n",
       "width        0.36908    0.29231   1.263    0.207\n",
       "spine       -1.37855    3.04961  -0.452    0.651\n",
       "width:spine  0.05389    0.11646   0.463    0.644\n",
       "\n",
       "(Dispersion parameter for binomial family taken to be 1)\n",
       "\n",
       "    Null deviance: 225.76  on 172  degrees of freedom\n",
       "Residual deviance: 194.23  on 169  degrees of freedom\n",
       "AIC: 202.23\n",
       "\n",
       "Number of Fisher Scoring iterations: 4\n"
      ]
     },
     "metadata": {},
     "output_type": "display_data"
    }
   ],
   "source": [
    "data.interaction = glm(y~width + spine + width*spine, data=data, family=binomial)\n",
    "summary(data.interaction)"
   ]
  },
  {
   "cell_type": "code",
   "execution_count": null,
   "id": "convertible-cherry",
   "metadata": {},
   "outputs": [],
   "source": []
  }
 ],
 "metadata": {
  "kernelspec": {
   "display_name": "R",
   "language": "R",
   "name": "ir"
  },
  "language_info": {
   "codemirror_mode": "r",
   "file_extension": ".r",
   "mimetype": "text/x-r-source",
   "name": "R",
   "pygments_lexer": "r",
   "version": "3.6.3"
  }
 },
 "nbformat": 4,
 "nbformat_minor": 5
}
