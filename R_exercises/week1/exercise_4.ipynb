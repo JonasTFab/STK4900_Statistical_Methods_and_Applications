{
 "cells": [
  {
   "cell_type": "code",
   "execution_count": 9,
   "id": "persistent-oriental",
   "metadata": {},
   "outputs": [
    {
     "data": {
      "text/html": [
       "<table>\n",
       "<caption>A data.frame: 32 × 2</caption>\n",
       "<thead>\n",
       "\t<tr><th scope=col>rate</th><th scope=col>type</th></tr>\n",
       "\t<tr><th scope=col>&lt;dbl&gt;</th><th scope=col>&lt;int&gt;</th></tr>\n",
       "</thead>\n",
       "<tbody>\n",
       "\t<tr><td>1.06</td><td>1</td></tr>\n",
       "\t<tr><td>0.79</td><td>1</td></tr>\n",
       "\t<tr><td>0.82</td><td>1</td></tr>\n",
       "\t<tr><td>0.89</td><td>1</td></tr>\n",
       "\t<tr><td>1.05</td><td>1</td></tr>\n",
       "\t<tr><td>0.95</td><td>1</td></tr>\n",
       "\t<tr><td>0.65</td><td>1</td></tr>\n",
       "\t<tr><td>1.15</td><td>1</td></tr>\n",
       "\t<tr><td>1.12</td><td>1</td></tr>\n",
       "\t<tr><td>1.58</td><td>2</td></tr>\n",
       "\t<tr><td>1.45</td><td>2</td></tr>\n",
       "\t<tr><td>0.57</td><td>2</td></tr>\n",
       "\t<tr><td>1.16</td><td>2</td></tr>\n",
       "\t<tr><td>1.12</td><td>2</td></tr>\n",
       "\t<tr><td>0.91</td><td>2</td></tr>\n",
       "\t<tr><td>0.83</td><td>2</td></tr>\n",
       "\t<tr><td>0.43</td><td>2</td></tr>\n",
       "\t<tr><td>0.29</td><td>3</td></tr>\n",
       "\t<tr><td>0.06</td><td>3</td></tr>\n",
       "\t<tr><td>0.44</td><td>3</td></tr>\n",
       "\t<tr><td>0.55</td><td>3</td></tr>\n",
       "\t<tr><td>0.61</td><td>3</td></tr>\n",
       "\t<tr><td>0.43</td><td>3</td></tr>\n",
       "\t<tr><td>0.51</td><td>3</td></tr>\n",
       "\t<tr><td>0.10</td><td>3</td></tr>\n",
       "\t<tr><td>0.53</td><td>3</td></tr>\n",
       "\t<tr><td>0.34</td><td>3</td></tr>\n",
       "\t<tr><td>0.06</td><td>3</td></tr>\n",
       "\t<tr><td>0.09</td><td>3</td></tr>\n",
       "\t<tr><td>0.17</td><td>3</td></tr>\n",
       "\t<tr><td>0.17</td><td>3</td></tr>\n",
       "\t<tr><td>0.60</td><td>3</td></tr>\n",
       "</tbody>\n",
       "</table>\n"
      ],
      "text/latex": [
       "A data.frame: 32 × 2\n",
       "\\begin{tabular}{ll}\n",
       " rate & type\\\\\n",
       " <dbl> & <int>\\\\\n",
       "\\hline\n",
       "\t 1.06 & 1\\\\\n",
       "\t 0.79 & 1\\\\\n",
       "\t 0.82 & 1\\\\\n",
       "\t 0.89 & 1\\\\\n",
       "\t 1.05 & 1\\\\\n",
       "\t 0.95 & 1\\\\\n",
       "\t 0.65 & 1\\\\\n",
       "\t 1.15 & 1\\\\\n",
       "\t 1.12 & 1\\\\\n",
       "\t 1.58 & 2\\\\\n",
       "\t 1.45 & 2\\\\\n",
       "\t 0.57 & 2\\\\\n",
       "\t 1.16 & 2\\\\\n",
       "\t 1.12 & 2\\\\\n",
       "\t 0.91 & 2\\\\\n",
       "\t 0.83 & 2\\\\\n",
       "\t 0.43 & 2\\\\\n",
       "\t 0.29 & 3\\\\\n",
       "\t 0.06 & 3\\\\\n",
       "\t 0.44 & 3\\\\\n",
       "\t 0.55 & 3\\\\\n",
       "\t 0.61 & 3\\\\\n",
       "\t 0.43 & 3\\\\\n",
       "\t 0.51 & 3\\\\\n",
       "\t 0.10 & 3\\\\\n",
       "\t 0.53 & 3\\\\\n",
       "\t 0.34 & 3\\\\\n",
       "\t 0.06 & 3\\\\\n",
       "\t 0.09 & 3\\\\\n",
       "\t 0.17 & 3\\\\\n",
       "\t 0.17 & 3\\\\\n",
       "\t 0.60 & 3\\\\\n",
       "\\end{tabular}\n"
      ],
      "text/markdown": [
       "\n",
       "A data.frame: 32 × 2\n",
       "\n",
       "| rate &lt;dbl&gt; | type &lt;int&gt; |\n",
       "|---|---|\n",
       "| 1.06 | 1 |\n",
       "| 0.79 | 1 |\n",
       "| 0.82 | 1 |\n",
       "| 0.89 | 1 |\n",
       "| 1.05 | 1 |\n",
       "| 0.95 | 1 |\n",
       "| 0.65 | 1 |\n",
       "| 1.15 | 1 |\n",
       "| 1.12 | 1 |\n",
       "| 1.58 | 2 |\n",
       "| 1.45 | 2 |\n",
       "| 0.57 | 2 |\n",
       "| 1.16 | 2 |\n",
       "| 1.12 | 2 |\n",
       "| 0.91 | 2 |\n",
       "| 0.83 | 2 |\n",
       "| 0.43 | 2 |\n",
       "| 0.29 | 3 |\n",
       "| 0.06 | 3 |\n",
       "| 0.44 | 3 |\n",
       "| 0.55 | 3 |\n",
       "| 0.61 | 3 |\n",
       "| 0.43 | 3 |\n",
       "| 0.51 | 3 |\n",
       "| 0.10 | 3 |\n",
       "| 0.53 | 3 |\n",
       "| 0.34 | 3 |\n",
       "| 0.06 | 3 |\n",
       "| 0.09 | 3 |\n",
       "| 0.17 | 3 |\n",
       "| 0.17 | 3 |\n",
       "| 0.60 | 3 |\n",
       "\n"
      ],
      "text/plain": [
       "   rate type\n",
       "1  1.06 1   \n",
       "2  0.79 1   \n",
       "3  0.82 1   \n",
       "4  0.89 1   \n",
       "5  1.05 1   \n",
       "6  0.95 1   \n",
       "7  0.65 1   \n",
       "8  1.15 1   \n",
       "9  1.12 1   \n",
       "10 1.58 2   \n",
       "11 1.45 2   \n",
       "12 0.57 2   \n",
       "13 1.16 2   \n",
       "14 1.12 2   \n",
       "15 0.91 2   \n",
       "16 0.83 2   \n",
       "17 0.43 2   \n",
       "18 0.29 3   \n",
       "19 0.06 3   \n",
       "20 0.44 3   \n",
       "21 0.55 3   \n",
       "22 0.61 3   \n",
       "23 0.43 3   \n",
       "24 0.51 3   \n",
       "25 0.10 3   \n",
       "26 0.53 3   \n",
       "27 0.34 3   \n",
       "28 0.06 3   \n",
       "29 0.09 3   \n",
       "30 0.17 3   \n",
       "31 0.17 3   \n",
       "32 0.60 3   "
      ]
     },
     "metadata": {},
     "output_type": "display_data"
    }
   ],
   "source": [
    "solvents=read.table(\"http://www.uio.no/studier/emner/matnat/math/STK4900/data/solvents.txt\",header=T)\n",
    "solvents"
   ]
  },
  {
   "cell_type": "code",
   "execution_count": 10,
   "id": "balanced-charles",
   "metadata": {},
   "outputs": [
    {
     "data": {
      "image/png": "[encoded data removed]",
      "text/plain": [
       "plot without title"
      ]
     },
     "metadata": {
      "image/png": {
       "height": 420,
       "width": 420
      }
     },
     "output_type": "display_data"
    }
   ],
   "source": [
    "boxplot(rate~type, data=solvents)"
   ]
  },
  {
   "cell_type": "code",
   "execution_count": 13,
   "id": "appreciated-douglas",
   "metadata": {},
   "outputs": [
    {
     "data": {
      "text/plain": [
       "            Df Sum Sq Mean Sq F value   Pr(>F)    \n",
       "type         2  3.305  1.6527   24.51 5.86e-07 ***\n",
       "Residuals   29  1.955  0.0674                     \n",
       "---\n",
       "Signif. codes:  0 ‘***’ 0.001 ‘**’ 0.01 ‘*’ 0.05 ‘.’ 0.1 ‘ ’ 1"
      ]
     },
     "metadata": {},
     "output_type": "display_data"
    }
   ],
   "source": [
    "solvents$type=factor(solvents$type) # defines diet to be a categorical variable\n",
    "solvents = aov(rate~type,data=solvents)\n",
    "summary(solvents)"
   ]
  },
  {
   "cell_type": "code",
   "execution_count": null,
   "id": "artistic-alpha",
   "metadata": {},
   "outputs": [],
   "source": []
  }
 ],
 "metadata": {
  "kernelspec": {
   "display_name": "R",
   "language": "R",
   "name": "ir"
  },
  "language_info": {
   "codemirror_mode": "r",
   "file_extension": ".r",
   "mimetype": "text/x-r-source",
   "name": "R",
   "pygments_lexer": "r",
   "version": "3.6.3"
  }
 },
 "nbformat": 4,
 "nbformat_minor": 5
}
