{
 "cells": [
  {
   "cell_type": "markdown",
   "id": "congressional-notice",
   "metadata": {},
   "source": [
    "# Exercise 16:  confidence interval and tests for two proportions\n",
    "\n",
    "In this exercise we will use the results from the opinion polls from Norstat from February and March 2017 to investigate the change in the support for some political parties. In February 2017 Norstat asked n1=935 individuals which party they would support if there had been election to the parliament tomorrow. Of these y1=230 would have voted Høyre. One month later, in March,  n2=927 persons were interviewed and y2=208 of these would have voted Høyre. \n",
    "\n",
    "### Question a)\n",
    "We start out by estimating the change in the support for Høyre with a 95 % confidence interval  (cf. slide 6). Try to program such an interval yourself in R. A suggested solution is given at the bottom of this page. Comment on the results. "
   ]
  },
  {
   "cell_type": "code",
   "execution_count": 3,
   "id": "injured-guatemala",
   "metadata": {},
   "outputs": [
    {
     "data": {
      "text/html": [
       "<table>\n",
       "<caption>A matrix: 1 × 4 of type dbl</caption>\n",
       "<thead>\n",
       "\t<tr><th scope=col>p12</th><th scope=col>margin</th><th scope=col>lower</th><th scope=col>upper</th></tr>\n",
       "</thead>\n",
       "<tbody>\n",
       "\t<tr><td>0.02160959</td><td>0.03851343</td><td>-0.01690385</td><td>0.06012302</td></tr>\n",
       "</tbody>\n",
       "</table>\n"
      ],
      "text/latex": [
       "A matrix: 1 × 4 of type dbl\n",
       "\\begin{tabular}{llll}\n",
       " p12 & margin & lower & upper\\\\\n",
       "\\hline\n",
       "\t 0.02160959 & 0.03851343 & -0.01690385 & 0.06012302\\\\\n",
       "\\end{tabular}\n"
      ],
      "text/markdown": [
       "\n",
       "A matrix: 1 × 4 of type dbl\n",
       "\n",
       "| p12 | margin | lower | upper |\n",
       "|---|---|---|---|\n",
       "| 0.02160959 | 0.03851343 | -0.01690385 | 0.06012302 |\n",
       "\n"
      ],
      "text/plain": [
       "     p12        margin     lower       upper     \n",
       "[1,] 0.02160959 0.03851343 -0.01690385 0.06012302"
      ]
     },
     "metadata": {},
     "output_type": "display_data"
    }
   ],
   "source": [
    "n1 = 935\n",
    "y1 = 230\n",
    "n2 = 927\n",
    "y2 = 208\n",
    "\n",
    "p1 = y1/n1\n",
    "p2 = y2/n2\n",
    "\n",
    "p12 = p1-p2\n",
    "\n",
    "se1 = sqrt(p1*(1-p1)/n1)\n",
    "se2 = sqrt(p2*(1-p2)/n2)\n",
    "\n",
    "se12 = sqrt(se1^2 + se2^2)\n",
    "\n",
    "\n",
    "# 95% confidence interval for p1-p2:\n",
    "margin = 1.96*se12\n",
    "lower = p12 - margin\n",
    "upper = p12 + margin\n",
    "\n",
    "cbind(p12, margin, lower, upper)"
   ]
  },
  {
   "cell_type": "markdown",
   "id": "square-timothy",
   "metadata": {},
   "source": [
    "We note the difference to be positive implying less people voting for Høyre the next month. The lower margin shows that this statement might be wrong as it is negative.\n",
    "\n",
    "---------------------------------------------\n",
    "\n",
    "### Question b)\n",
    "We then test the null hypothesis that the support for Høyre has not changed from February to March (cf. slide 8)\n",
    "\n",
    "- p=(y1+y2)/(n1+n2)\n",
    "- se0=sqrt(p*(1-p)/n1+p*(1-p)/n2)\n",
    "- z=(p1-p2)/se0\n",
    "- pval=2*(1-pnorm(abs(z)))\n",
    "- cbind(z,pval)\n",
    "\n",
    "Perform these commands and comment on the results. Is the null hypothesis rejected or not? How does this relate to the confidence interval computed earlier?"
   ]
  },
  {
   "cell_type": "code",
   "execution_count": 5,
   "id": "provincial-correspondence",
   "metadata": {},
   "outputs": [
    {
     "data": {
      "text/html": [
       "<table>\n",
       "<caption>A matrix: 1 × 2 of type dbl</caption>\n",
       "<thead>\n",
       "\t<tr><th scope=col>z</th><th scope=col>pval</th></tr>\n",
       "</thead>\n",
       "<tbody>\n",
       "\t<tr><td>1.099233</td><td>0.2716663</td></tr>\n",
       "</tbody>\n",
       "</table>\n"
      ],
      "text/latex": [
       "A matrix: 1 × 2 of type dbl\n",
       "\\begin{tabular}{ll}\n",
       " z & pval\\\\\n",
       "\\hline\n",
       "\t 1.099233 & 0.2716663\\\\\n",
       "\\end{tabular}\n"
      ],
      "text/markdown": [
       "\n",
       "A matrix: 1 × 2 of type dbl\n",
       "\n",
       "| z | pval |\n",
       "|---|---|\n",
       "| 1.099233 | 0.2716663 |\n",
       "\n"
      ],
      "text/plain": [
       "     z        pval     \n",
       "[1,] 1.099233 0.2716663"
      ]
     },
     "metadata": {},
     "output_type": "display_data"
    }
   ],
   "source": [
    "p = (y1+y2) / (n1+n2)\n",
    "se0 = sqrt(p*(1-p)/n1 + p*(1-p)/n2)\n",
    "z = (p1-p2) / se0\n",
    "pval = 2 * (1-pnorm(abs(z)))\n",
    "cbind(z,pval)"
   ]
  },
  {
   "cell_type": "markdown",
   "id": "postal-ridge",
   "metadata": {},
   "source": [
    "We reject the null hypothesis for large values of |z|. We got a z value close to 1 meaning that we do not reject the null hypothesis. The two-sided P-value tells us the probability of Z > |z| where Z is standard normal. We may then assume that it is it 1-pval probability to lie within the confidence interval which is approximetaly 73 % probable.\n",
    "\n",
    "\n",
    "\n",
    "---------------------------------------------\n",
    "\n",
    "### Question c)\n",
    "R has a command for comparing two proportions\n",
    "\n",
    "- hoyre=matrix(c(y1,y2,n1-y1,n2-y2),nrow=2)   # give the data for Høyre in a 2x2 table (cf. slide 10)\n",
    "- prop.test(hoyre,correct=F)\n",
    "\n",
    "Perform these commands and check that the results agree with those obtained earlier. The prop.test-command give a chi squared statistic, not a z-value as we computed earlier. What is the relation between the two?"
   ]
  },
  {
   "cell_type": "code",
   "execution_count": 6,
   "id": "representative-rider",
   "metadata": {},
   "outputs": [
    {
     "data": {
      "text/plain": [
       "\n",
       "\t2-sample test for equality of proportions without continuity\n",
       "\tcorrection\n",
       "\n",
       "data:  hoyre\n",
       "X-squared = 1.2083, df = 1, p-value = 0.2717\n",
       "alternative hypothesis: two.sided\n",
       "95 percent confidence interval:\n",
       " -0.01690314  0.06012231\n",
       "sample estimates:\n",
       "   prop 1    prop 2 \n",
       "0.2459893 0.2243797 \n"
      ]
     },
     "metadata": {},
     "output_type": "display_data"
    }
   ],
   "source": [
    "hoyre = matrix(c(y1, y2, n1-y1, n2-y2), nrow=2)\n",
    "prop.test(hoyre, correct=F)"
   ]
  },
  {
   "cell_type": "markdown",
   "id": "express-standard",
   "metadata": {},
   "source": [
    "We get the same p-value and a 95 % confidence interval which matches the upper and lower margin given above. We have that chi^2 = z^2.\n",
    "\n",
    "\n",
    "\n",
    "---------------------------------------------\n",
    "\n",
    "### Question d)\n",
    "We will then take a look at the results for Senterpartiet (Sp). In February 80 of the 935  persons who were interviewed would have voted Senterpartiet; while in March 101 of the 927 interviewed would have voted Senterpartiet.\n",
    "\n",
    "Estimating the change in the support for Senterpartiet with a 95 % confidence interval. Also test the null hypothesis that the support for Senterpartiet has not changed from February to March. What are your conclusions?\n",
    "\n"
   ]
  },
  {
   "cell_type": "code",
   "execution_count": 7,
   "id": "velvet-parade",
   "metadata": {},
   "outputs": [
    {
     "data": {
      "text/html": [
       "<table>\n",
       "<caption>A matrix: 1 × 4 of type dbl</caption>\n",
       "<thead>\n",
       "\t<tr><th scope=col>p12</th><th scope=col>margin</th><th scope=col>lower</th><th scope=col>upper</th></tr>\n",
       "</thead>\n",
       "<tbody>\n",
       "\t<tr><td>-0.02339212</td><td>0.0269033</td><td>-0.05029541</td><td>0.003511179</td></tr>\n",
       "</tbody>\n",
       "</table>\n"
      ],
      "text/latex": [
       "A matrix: 1 × 4 of type dbl\n",
       "\\begin{tabular}{llll}\n",
       " p12 & margin & lower & upper\\\\\n",
       "\\hline\n",
       "\t -0.02339212 & 0.0269033 & -0.05029541 & 0.003511179\\\\\n",
       "\\end{tabular}\n"
      ],
      "text/markdown": [
       "\n",
       "A matrix: 1 × 4 of type dbl\n",
       "\n",
       "| p12 | margin | lower | upper |\n",
       "|---|---|---|---|\n",
       "| -0.02339212 | 0.0269033 | -0.05029541 | 0.003511179 |\n",
       "\n"
      ],
      "text/plain": [
       "     p12         margin    lower       upper      \n",
       "[1,] -0.02339212 0.0269033 -0.05029541 0.003511179"
      ]
     },
     "metadata": {},
     "output_type": "display_data"
    }
   ],
   "source": [
    "n1 = 935\n",
    "y1 = 80\n",
    "n2 = 927\n",
    "y2 = 101\n",
    "\n",
    "p1 = y1/n1\n",
    "p2 = y2/n2\n",
    "\n",
    "p12 = p1-p2\n",
    "\n",
    "se1 = sqrt(p1*(1-p1)/n1)\n",
    "se2 = sqrt(p2*(1-p2)/n2)\n",
    "\n",
    "se12 = sqrt(se1^2 + se2^2)\n",
    "\n",
    "\n",
    "# 95% confidence interval for p1-p2:\n",
    "margin = 1.96*se12\n",
    "lower = p12 - margin\n",
    "upper = p12 + margin\n",
    "\n",
    "cbind(p12, margin, lower, upper)"
   ]
  },
  {
   "cell_type": "code",
   "execution_count": 8,
   "id": "stupid-sudan",
   "metadata": {},
   "outputs": [
    {
     "data": {
      "text/html": [
       "<table>\n",
       "<caption>A matrix: 1 × 2 of type dbl</caption>\n",
       "<thead>\n",
       "\t<tr><th scope=col>z</th><th scope=col>pval</th></tr>\n",
       "</thead>\n",
       "<tbody>\n",
       "\t<tr><td>-1.703656</td><td>0.08844539</td></tr>\n",
       "</tbody>\n",
       "</table>\n"
      ],
      "text/latex": [
       "A matrix: 1 × 2 of type dbl\n",
       "\\begin{tabular}{ll}\n",
       " z & pval\\\\\n",
       "\\hline\n",
       "\t -1.703656 & 0.08844539\\\\\n",
       "\\end{tabular}\n"
      ],
      "text/markdown": [
       "\n",
       "A matrix: 1 × 2 of type dbl\n",
       "\n",
       "| z | pval |\n",
       "|---|---|\n",
       "| -1.703656 | 0.08844539 |\n",
       "\n"
      ],
      "text/plain": [
       "     z         pval      \n",
       "[1,] -1.703656 0.08844539"
      ]
     },
     "metadata": {},
     "output_type": "display_data"
    }
   ],
   "source": [
    "p = (y1+y2) / (n1+n2)\n",
    "se0 = sqrt(p*(1-p)/n1 + p*(1-p)/n2)\n",
    "z = (p1-p2) / se0\n",
    "pval = 2 * (1-pnorm(abs(z)))\n",
    "cbind(z,pval)"
   ]
  },
  {
   "cell_type": "code",
   "execution_count": 9,
   "id": "incident-elder",
   "metadata": {},
   "outputs": [
    {
     "data": {
      "text/plain": [
       "\n",
       "\t2-sample test for equality of proportions without continuity\n",
       "\tcorrection\n",
       "\n",
       "data:  Senterpartiet\n",
       "X-squared = 2.9024, df = 1, p-value = 0.08845\n",
       "alternative hypothesis: two.sided\n",
       "95 percent confidence interval:\n",
       " -0.050294918  0.003510685\n",
       "sample estimates:\n",
       "   prop 1    prop 2 \n",
       "0.0855615 0.1089536 \n"
      ]
     },
     "metadata": {},
     "output_type": "display_data"
    }
   ],
   "source": [
    "Senterpartiet = matrix(c(y1, y2, n1-y1, n2-y2), nrow=2)\n",
    "prop.test(Senterpartiet, correct=F)"
   ]
  },
  {
   "cell_type": "markdown",
   "id": "accessory-captain",
   "metadata": {},
   "source": [
    "p12 is negative implying more people to vote on Senterpartiet next month. The confidence interval is narrower but greater |z| value. The p-value is also quite low mean that the probability of lying withing the confidence interval is greater than for the case of Høyre."
   ]
  },
  {
   "cell_type": "code",
   "execution_count": null,
   "id": "seventh-chancellor",
   "metadata": {},
   "outputs": [],
   "source": []
  }
 ],
 "metadata": {
  "kernelspec": {
   "display_name": "R",
   "language": "R",
   "name": "ir"
  },
  "language_info": {
   "codemirror_mode": "r",
   "file_extension": ".r",
   "mimetype": "text/x-r-source",
   "name": "R",
   "pygments_lexer": "r",
   "version": "3.6.3"
  }
 },
 "nbformat": 4,
 "nbformat_minor": 5
}
