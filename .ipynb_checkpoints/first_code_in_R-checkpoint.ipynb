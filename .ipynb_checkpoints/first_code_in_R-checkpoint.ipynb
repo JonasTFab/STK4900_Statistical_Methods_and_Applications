{
 "cells": [
  {
   "cell_type": "markdown",
   "id": "dominant-retro",
   "metadata": {},
   "source": [
    "# Preparation for the intensive weeks in STK4900\n",
    "\n",
    "The preparation consists mainly on small code example as I have never used R before. The advised chapters in the syllabus (Vittinghof, E., Glidden, D., Shiboski,S.C. and McCullogh, C. (2012), Regression methods in biostatistics, Springer) for week 1 is noted below:\n",
    "\n",
    "- Chapter 3.3\n",
    "- Chapter 9\n",
    "- Chapter 4 (maybe)\n",
    "- Chapter 5 (maybe)\n"
   ]
  },
  {
   "cell_type": "code",
   "execution_count": 15,
   "id": "civic-portrait",
   "metadata": {},
   "outputs": [
    {
     "data": {
      "text/plain": [
       "set_of_vals\n",
       "1 2 3 4 5 6 7 8 \n",
       "4 1 3 1 1 3 1 1 "
      ]
     },
     "metadata": {},
     "output_type": "display_data"
    },
    {
     "data": {
      "image/png": "[encoded data removed]",
      "text/plain": [
       "plot without title"
      ]
     },
     "metadata": {
      "image/png": {
       "height": 420,
       "width": 420
      }
     },
     "output_type": "display_data"
    }
   ],
   "source": [
    "set_of_vals = c(1,3,6,1,3,5,6,6,7,8,3,1,4,1,2)           # a random vector (include 'c' in front of brackets to define a vector)\n",
    "set_of_vals.freq = table(set_of_vals)\n",
    "\n",
    "set_of_vals.freq\n",
    "barplot(set_of_vals.freq)            # frequency bar plot"
   ]
  },
  {
   "cell_type": "code",
   "execution_count": 67,
   "id": "tough-likelihood",
   "metadata": {},
   "outputs": [],
   "source": [
    "# introduce random number generator \n",
    "\n",
    "ran_numf = runif(3, 1, 10)     # generate 3 random floating numbers between 1 and 10\n",
    "#ran_num\n",
    "\n",
    "ran_numi = sample(1:10, size=3, replace=F)     # generate 3 random integer number between 1 and 10 (if replace=T(True), then numbers may be regenerated)\n",
    "#ran_numi\n",
    "\n",
    "ran_text = c(\"This\", \"is\", \"my\", \"first\", \"time\", \"coding\", \"in\", \"R\", \"!\")\n",
    "ran_word = sample(ran_text, 1)\n",
    "#ran_word\n",
    "\n",
    "yoda_text = c(\"This\", \"is\", \"Yoda\", \"speaking\")\n",
    "yoda_speaking = sample(yoda_text, length(yoda_text))\n",
    "#yoda_speaking"
   ]
  },
  {
   "cell_type": "code",
   "execution_count": null,
   "id": "standard-nylon",
   "metadata": {},
   "outputs": [],
   "source": []
  }
 ],
 "metadata": {
  "kernelspec": {
   "display_name": "R",
   "language": "R",
   "name": "ir"
  },
  "language_info": {
   "codemirror_mode": "r",
   "file_extension": ".r",
   "mimetype": "text/x-r-source",
   "name": "R",
   "pygments_lexer": "r",
   "version": "3.6.3"
  }
 },
 "nbformat": 4,
 "nbformat_minor": 5
}
