{
 "cells": [
  {
   "cell_type": "markdown",
   "id": "perfect-gender",
   "metadata": {},
   "source": [
    "# Problem 2\n",
    "\n",
    "Solving problem 2 using R in jupyter lab. Documentation is written in a separate pdf file.\n",
    "\n",
    "-------------------\n",
    "\n",
    "\n",
    "### a)\n",
    "\n",
    "Extract data from https://www.uio.no/studier/emner/matnat/math/STK4900/v21/obliger/olympic.txt"
   ]
  },
  {
   "cell_type": "code",
   "execution_count": 1,
   "id": "entertaining-couple",
   "metadata": {},
   "outputs": [],
   "source": [
    "data = read.table(\"olympic.txt\", header=T)"
   ]
  },
  {
   "cell_type": "markdown",
   "id": "dutch-transition",
   "metadata": {},
   "source": [
    "-------------------\n",
    "\n",
    "\n",
    "### b)"
   ]
  },
  {
   "cell_type": "code",
   "execution_count": 5,
   "id": "retired-burns",
   "metadata": {},
   "outputs": [
    {
     "data": {
      "text/plain": [
       "\n",
       "Call:\n",
       "glm(formula = Total2000 ~ Total1996 + Log.population + Log.athletes + \n",
       "    GDP.per.cap, family = poisson, data = data)\n",
       "\n",
       "Deviance Residuals: \n",
       "     Min        1Q    Median        3Q       Max  \n",
       "-3.06803  -1.17620   0.05532   0.99027   2.38393  \n",
       "\n",
       "Coefficients:\n",
       "                Estimate Std. Error z value Pr(>|z|)    \n",
       "(Intercept)    -2.271417   0.430403  -5.277 1.31e-07 ***\n",
       "Total1996       0.014101   0.001962   7.188 6.55e-13 ***\n",
       "Log.population  0.033296   0.031353   1.062    0.288    \n",
       "Log.athletes    0.863198   0.068774  12.551  < 2e-16 ***\n",
       "GDP.per.cap    -0.013185   0.003317  -3.975 7.04e-05 ***\n",
       "---\n",
       "Signif. codes:  0 ‘***’ 0.001 ‘**’ 0.01 ‘*’ 0.05 ‘.’ 0.1 ‘ ’ 1\n",
       "\n",
       "(Dispersion parameter for poisson family taken to be 1)\n",
       "\n",
       "    Null deviance: 1184.00  on 65  degrees of freedom\n",
       "Residual deviance:  127.75  on 61  degrees of freedom\n",
       "AIC: 390.43\n",
       "\n",
       "Number of Fisher Scoring iterations: 4\n"
      ]
     },
     "metadata": {},
     "output_type": "display_data"
    }
   ],
   "source": [
    "fit.medals.all = glm(Total2000 ~ Total1996+Log.population+Log.athletes+GDP.per.cap, data=data, family=poisson)\n",
    "summary(fit.medals)"
   ]
  },
  {
   "cell_type": "code",
   "execution_count": null,
   "id": "downtown-touch",
   "metadata": {},
   "outputs": [],
   "source": [
    "fit.medals.simple = glm(Total2000 ~ Total1996+Log.population+Log.athletes+GDP.per.cap, data=data, family=poisson)\n",
    "summary(fit.medals)"
   ]
  }
 ],
 "metadata": {
  "kernelspec": {
   "display_name": "R",
   "language": "R",
   "name": "ir"
  },
  "language_info": {
   "codemirror_mode": "r",
   "file_extension": ".r",
   "mimetype": "text/x-r-source",
   "name": "R",
   "pygments_lexer": "r",
   "version": "3.6.3"
  }
 },
 "nbformat": 4,
 "nbformat_minor": 5
}
