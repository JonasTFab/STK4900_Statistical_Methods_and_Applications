{
 "cells": [
  {
   "cell_type": "markdown",
   "id": "blind-sodium",
   "metadata": {},
   "source": [
    "# Exercise 15:  confidence interval for proportions\n",
    "\n",
    " \n",
    "\n",
    "At the lectures we looked an example concerning the opinion poll from February 2017 (cf. slide 2 from the lectures)\n",
    "\n",
    "We will in this exercise consider this example further.\n",
    "\n",
    "\n",
    "\n",
    "### Question a)\n",
    "\n",
    "Of the n=935 persons who were interviewed by Norstat, y = sum(y_i) = 309 would have voted Ap. The following calculations reproduce the result from the lectures (cf. slide 4)\n",
    "\n",
    "- n = 935\n",
    "- y = 309\n",
    "- p = y/n\n",
    "- se = sqrt(p*(1-p)/n)\n",
    "- margin = 1.96*se\n",
    "- lower = p-margin\n",
    "- upper = p+margin\n",
    "- cbind(p,margin,lower,upper)\n",
    "\n",
    "\n",
    "Do the calculations and check that you get the result from the lectures."
   ]
  },
  {
   "cell_type": "code",
   "execution_count": 2,
   "id": "subsequent-porter",
   "metadata": {},
   "outputs": [
    {
     "data": {
      "text/html": [
       "<table>\n",
       "<caption>A matrix: 1 × 4 of type dbl</caption>\n",
       "<thead>\n",
       "\t<tr><th scope=col>p</th><th scope=col>margin</th><th scope=col>lower</th><th scope=col>upper</th></tr>\n",
       "</thead>\n",
       "<tbody>\n",
       "\t<tr><td>0.3304813</td><td>0.03015123</td><td>0.3003301</td><td>0.3606325</td></tr>\n",
       "</tbody>\n",
       "</table>\n"
      ],
      "text/latex": [
       "A matrix: 1 × 4 of type dbl\n",
       "\\begin{tabular}{llll}\n",
       " p & margin & lower & upper\\\\\n",
       "\\hline\n",
       "\t 0.3304813 & 0.03015123 & 0.3003301 & 0.3606325\\\\\n",
       "\\end{tabular}\n"
      ],
      "text/markdown": [
       "\n",
       "A matrix: 1 × 4 of type dbl\n",
       "\n",
       "| p | margin | lower | upper |\n",
       "|---|---|---|---|\n",
       "| 0.3304813 | 0.03015123 | 0.3003301 | 0.3606325 |\n",
       "\n"
      ],
      "text/plain": [
       "     p         margin     lower     upper    \n",
       "[1,] 0.3304813 0.03015123 0.3003301 0.3606325"
      ]
     },
     "metadata": {},
     "output_type": "display_data"
    }
   ],
   "source": [
    "n = 935\n",
    "y = 309\n",
    "p = y/n\n",
    "se = sqrt(p*(1-p)/n)\n",
    "margin = 1.96*se\n",
    "lower = p-margin\n",
    "upper = p+margin\n",
    "cbind(p, margin, lower, upper)"
   ]
  },
  {
   "cell_type": "markdown",
   "id": "floating-clock",
   "metadata": {},
   "source": [
    "From slides, Ap's support are 33.0 % which match the p-value. The margin is 3.0 % which we also got.\n",
    "\n",
    "### Question b)\n",
    "\n",
    "In the opinion poll, 122 of the persons interviewed would have voted Fremskrittspartiet (FrP) and 80 would have voted Senterpartiet (Sp). Repeat the calculations above for Fremskrittspartiet and Senterpartiet.\n",
    "\n",
    "How is the \"margin of error\" for these parties compared to the \"margin of error\" for Ap (cf. slide 4)?"
   ]
  },
  {
   "cell_type": "code",
   "execution_count": 3,
   "id": "english-quarterly",
   "metadata": {},
   "outputs": [
    {
     "data": {
      "text/html": [
       "<table>\n",
       "<caption>A matrix: 1 × 4 of type dbl</caption>\n",
       "<thead>\n",
       "\t<tr><th scope=col>p</th><th scope=col>margin</th><th scope=col>lower</th><th scope=col>upper</th></tr>\n",
       "</thead>\n",
       "<tbody>\n",
       "\t<tr><td>0.1304813</td><td>0.02159056</td><td>0.1088907</td><td>0.1520718</td></tr>\n",
       "</tbody>\n",
       "</table>\n"
      ],
      "text/latex": [
       "A matrix: 1 × 4 of type dbl\n",
       "\\begin{tabular}{llll}\n",
       " p & margin & lower & upper\\\\\n",
       "\\hline\n",
       "\t 0.1304813 & 0.02159056 & 0.1088907 & 0.1520718\\\\\n",
       "\\end{tabular}\n"
      ],
      "text/markdown": [
       "\n",
       "A matrix: 1 × 4 of type dbl\n",
       "\n",
       "| p | margin | lower | upper |\n",
       "|---|---|---|---|\n",
       "| 0.1304813 | 0.02159056 | 0.1088907 | 0.1520718 |\n",
       "\n"
      ],
      "text/plain": [
       "     p         margin     lower     upper    \n",
       "[1,] 0.1304813 0.02159056 0.1088907 0.1520718"
      ]
     },
     "metadata": {},
     "output_type": "display_data"
    }
   ],
   "source": [
    "n = 935\n",
    "y = 122\n",
    "p = y/n\n",
    "se = sqrt(p*(1-p)/n)\n",
    "margin = 1.96*se\n",
    "lower = p-margin\n",
    "upper = p+margin\n",
    "cbind(p, margin, lower, upper)"
   ]
  },
  {
   "cell_type": "markdown",
   "id": "olympic-desire",
   "metadata": {},
   "source": [
    "The only difference is the parameter y. We get a lower p-value of 13.0 % and a lower margin value of 2.2 % for FrP."
   ]
  },
  {
   "cell_type": "code",
   "execution_count": 4,
   "id": "hungarian-climate",
   "metadata": {},
   "outputs": [
    {
     "data": {
      "text/html": [
       "<table>\n",
       "<caption>A matrix: 1 × 4 of type dbl</caption>\n",
       "<thead>\n",
       "\t<tr><th scope=col>p</th><th scope=col>margin</th><th scope=col>lower</th><th scope=col>upper</th></tr>\n",
       "</thead>\n",
       "<tbody>\n",
       "\t<tr><td>0.0855615</td><td>0.01792944</td><td>0.06763206</td><td>0.1034909</td></tr>\n",
       "</tbody>\n",
       "</table>\n"
      ],
      "text/latex": [
       "A matrix: 1 × 4 of type dbl\n",
       "\\begin{tabular}{llll}\n",
       " p & margin & lower & upper\\\\\n",
       "\\hline\n",
       "\t 0.0855615 & 0.01792944 & 0.06763206 & 0.1034909\\\\\n",
       "\\end{tabular}\n"
      ],
      "text/markdown": [
       "\n",
       "A matrix: 1 × 4 of type dbl\n",
       "\n",
       "| p | margin | lower | upper |\n",
       "|---|---|---|---|\n",
       "| 0.0855615 | 0.01792944 | 0.06763206 | 0.1034909 |\n",
       "\n"
      ],
      "text/plain": [
       "     p         margin     lower      upper    \n",
       "[1,] 0.0855615 0.01792944 0.06763206 0.1034909"
      ]
     },
     "metadata": {},
     "output_type": "display_data"
    }
   ],
   "source": [
    "n = 935\n",
    "y = 80\n",
    "p = y/n\n",
    "se = sqrt(p*(1-p)/n)\n",
    "margin = 1.96*se\n",
    "lower = p-margin\n",
    "upper = p+margin\n",
    "cbind(p, margin, lower, upper)"
   ]
  },
  {
   "cell_type": "markdown",
   "id": "heated-wright",
   "metadata": {},
   "source": [
    "For Sp, we get a p-value of 8.6 % and a margin value of 1.8 % for FrP."
   ]
  },
  {
   "cell_type": "code",
   "execution_count": null,
   "id": "rocky-spelling",
   "metadata": {},
   "outputs": [],
   "source": []
  }
 ],
 "metadata": {
  "kernelspec": {
   "display_name": "R",
   "language": "R",
   "name": "ir"
  },
  "language_info": {
   "codemirror_mode": "r",
   "file_extension": ".r",
   "mimetype": "text/x-r-source",
   "name": "R",
   "pygments_lexer": "r",
   "version": "3.6.3"
  }
 },
 "nbformat": 4,
 "nbformat_minor": 5
}
