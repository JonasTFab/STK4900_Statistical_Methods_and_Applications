{
 "cells": [
  {
   "cell_type": "markdown",
   "id": "respiratory-credits",
   "metadata": {},
   "source": [
    "# Problem 1\n",
    "\n",
    "Solving problem 1 using R in jupyter lab. Documentation is written in a separate pdf file.\n",
    "-------------------\n"
   ]
  },
  {
   "cell_type": "code",
   "execution_count": null,
   "id": "representative-liberia",
   "metadata": {},
   "outputs": [],
   "source": []
  }
 ],
 "metadata": {
  "kernelspec": {
   "display_name": "R",
   "language": "R",
   "name": "ir"
  },
  "language_info": {
   "codemirror_mode": "r",
   "file_extension": ".r",
   "mimetype": "text/x-r-source",
   "name": "R",
   "pygments_lexer": "r",
   "version": "3.6.3"
  }
 },
 "nbformat": 4,
 "nbformat_minor": 5
}
